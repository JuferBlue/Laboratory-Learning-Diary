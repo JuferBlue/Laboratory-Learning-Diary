{
 "cells": [
  {
   "metadata": {},
   "cell_type": "markdown",
   "source": "## VggNet",
   "id": "9409ff14b9152497"
  },
  {
   "metadata": {
    "ExecuteTime": {
     "end_time": "2024-07-23T08:23:53.773085Z",
     "start_time": "2024-07-23T08:23:53.770315Z"
    }
   },
   "cell_type": "code",
   "source": [
    "# 导入相关的包\n",
    "import torch\n",
    "import torchvision\n",
    "from torch import nn\n",
    "from torch.utils.data import DataLoader\n",
    "from torchvision.transforms import ToTensor\n",
    "import os"
   ],
   "id": "f7f5d8da2718b09f",
   "outputs": [],
   "execution_count": 2
  },
  {
   "metadata": {
    "ExecuteTime": {
     "end_time": "2024-07-23T08:28:23.820437Z",
     "start_time": "2024-07-23T08:28:22.793729Z"
    }
   },
   "cell_type": "code",
   "source": [
    "# 对图片的预处理\n",
    "transform = torchvision.transforms.Compose([\n",
    "    torchvision.transforms.Resize((224, 224)),\n",
    "    torchvision.transforms.ToTensor()\n",
    "])\n",
    "\n",
    "# 导入数据集\n",
    "train_data = torchvision.datasets.CIFAR10(root='../数据集/cifar10', train=True, transform=transform, download=True)\n",
    "test_data = torchvision.datasets.CIFAR10(root='../数据集/cifar10', train=False, transform=transform, download=True)\n"
   ],
   "id": "afe6384d2d8c2b2",
   "outputs": [
    {
     "name": "stdout",
     "output_type": "stream",
     "text": [
      "Files already downloaded and verified\n",
      "Files already downloaded and verified\n"
     ]
    }
   ],
   "execution_count": 3
  },
  {
   "metadata": {
    "ExecuteTime": {
     "end_time": "2024-07-23T08:28:25.114383Z",
     "start_time": "2024-07-23T08:28:25.111545Z"
    }
   },
   "cell_type": "code",
   "source": [
    "# 保存数据集的长度\n",
    "train_data_size = len(train_data)\n",
    "test_data_size = len(test_data)\n",
    "print(\"训练数据集的长度为：{}\".format(train_data_size))\n",
    "print(\"测试数据集的长度为：{}\".format(test_data_size))"
   ],
   "id": "144626c01a7dd38f",
   "outputs": [
    {
     "name": "stdout",
     "output_type": "stream",
     "text": [
      "训练数据集的长度为：50000\n",
      "测试数据集的长度为：10000\n"
     ]
    }
   ],
   "execution_count": 4
  },
  {
   "metadata": {
    "ExecuteTime": {
     "end_time": "2024-07-23T08:28:32.807066Z",
     "start_time": "2024-07-23T08:28:32.804504Z"
    }
   },
   "cell_type": "code",
   "source": [
    "# 创建数据加载器\n",
    "train_dataloader = DataLoader(train_data, batch_size=64)\n",
    "test_dataloader = DataLoader(test_data, batch_size=64)"
   ],
   "id": "22fad1bf4915a4b5",
   "outputs": [],
   "execution_count": 5
  },
  {
   "metadata": {
    "ExecuteTime": {
     "end_time": "2024-07-23T08:35:09.828195Z",
     "start_time": "2024-07-23T08:35:09.825230Z"
    }
   },
   "cell_type": "code",
   "source": [
    "# 定义vgg块\n",
    "# num_convs：卷积层的个数\n",
    "# in_channels：输入通道数\n",
    "# out_channels：输出通道数\n",
    "def vgg_block(num_convs, in_channels, out_channels):\n",
    "    layers = [] # 创建一个列表，用于存放vgg块中的卷积层和池化层\n",
    "    for i in range(num_convs):\n",
    "        layers.append(nn.Conv2d(in_channels, out_channels, kernel_size=3, padding=1))\n",
    "        layers.append(nn.ReLU())\n",
    "        in_channels = out_channels\n",
    "    layers.append(nn.MaxPool2d(kernel_size=2, stride=2))\n",
    "    return nn.Sequential(*layers)"
   ],
   "id": "b5716e088e18fa95",
   "outputs": [],
   "execution_count": 7
  },
  {
   "metadata": {
    "ExecuteTime": {
     "end_time": "2024-07-23T08:53:54.855292Z",
     "start_time": "2024-07-23T08:53:54.253205Z"
    }
   },
   "cell_type": "code",
   "source": [
    "# vgg块的参数\n",
    "conv_arch = ((1,64), (1,128), (2,256), (2,512), (2,512))\n",
    "# vgg模型\n",
    "def vgg(conv_arch):\n",
    "    conv_blocks = [] # 创建一个列表，用于存放vgg块\n",
    "    in_channels = 3 # 输入通道数\n",
    "    # 遍历conv_arch，创建vgg块\n",
    "    for (num_convs, out_channels) in conv_arch:\n",
    "        conv_blocks.append(vgg_block(num_convs, in_channels, out_channels))\n",
    "        in_channels = out_channels\n",
    "    \n",
    "    return nn.Sequential(\n",
    "        *conv_blocks,\n",
    "        nn.Flatten(),\n",
    "        nn.Linear(out_channels*7*7, 4096),\n",
    "        nn.ReLU(),\n",
    "        nn.Dropout(0.5),\n",
    "        nn.Linear(4096, 4096),\n",
    "        nn.ReLU(),\n",
    "        nn.Dropout(0.5),\n",
    "        nn.Linear(4096, 10)\n",
    "    )\n",
    "\n",
    "vgg11 = vgg(conv_arch)"
   ],
   "id": "6f0e7ef292b5bf50",
   "outputs": [],
   "execution_count": 12
  },
  {
   "metadata": {
    "ExecuteTime": {
     "end_time": "2024-07-23T08:54:20.208488Z",
     "start_time": "2024-07-23T08:54:20.118032Z"
    }
   },
   "cell_type": "code",
   "source": [
    "# 观察每一层输出的形状\n",
    "x = torch.randn(size=(1, 3, 224, 224))\n",
    "for blk in vgg11:\n",
    "    x = blk(x)\n",
    "    print(blk.__class__.__name__, 'output shape: \\t\\t', x.shape)"
   ],
   "id": "1aaf927e457a5f6a",
   "outputs": [
    {
     "name": "stdout",
     "output_type": "stream",
     "text": [
      "Sequential output shape: \t\t torch.Size([1, 64, 112, 112])\n",
      "Sequential output shape: \t\t torch.Size([1, 128, 56, 56])\n",
      "Sequential output shape: \t\t torch.Size([1, 256, 28, 28])\n",
      "Sequential output shape: \t\t torch.Size([1, 512, 14, 14])\n",
      "Sequential output shape: \t\t torch.Size([1, 512, 7, 7])\n",
      "Flatten output shape: \t\t torch.Size([1, 25088])\n",
      "Linear output shape: \t\t torch.Size([1, 4096])\n",
      "ReLU output shape: \t\t torch.Size([1, 4096])\n",
      "Dropout output shape: \t\t torch.Size([1, 4096])\n",
      "Linear output shape: \t\t torch.Size([1, 4096])\n",
      "ReLU output shape: \t\t torch.Size([1, 4096])\n",
      "Dropout output shape: \t\t torch.Size([1, 4096])\n",
      "Linear output shape: \t\t torch.Size([1, 10])\n"
     ]
    }
   ],
   "execution_count": 14
  }
 ],
 "metadata": {
  "kernelspec": {
   "display_name": "Python 3",
   "language": "python",
   "name": "python3"
  },
  "language_info": {
   "codemirror_mode": {
    "name": "ipython",
    "version": 2
   },
   "file_extension": ".py",
   "mimetype": "text/x-python",
   "name": "python",
   "nbconvert_exporter": "python",
   "pygments_lexer": "ipython2",
   "version": "2.7.6"
  }
 },
 "nbformat": 4,
 "nbformat_minor": 5
}
