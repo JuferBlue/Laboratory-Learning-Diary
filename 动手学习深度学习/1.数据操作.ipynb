{
 "cells": [
  {
   "cell_type": "markdown",
   "id": "3d55ca01-88bf-4a45-bb7a-6949717c8b3a",
   "metadata": {
    "collapsed": true,
    "jupyter": {
     "outputs_hidden": true
    }
   },
   "source": [
    "## 1.创建一个csv文件数据集"
   ]
  },
  {
   "cell_type": "code",
   "id": "db13a780-f4ea-4942-88c4-a9c72afa56d3",
   "metadata": {
    "ExecuteTime": {
     "end_time": "2024-07-21T06:55:30.110679Z",
     "start_time": "2024-07-21T06:55:30.103921Z"
    }
   },
   "source": [
    "# 数据处理：创建一个人工数据集\n",
    "import os\n",
    "\n",
    "# 1.创建文件夹\n",
    "# 参数：\n",
    "#   第一个参数：目录名\n",
    "#   第二个参数：如果目录名已经存在不会抛出错误\n",
    "os.makedirs(os.path.join('..', 'data'),exist_ok=True)\n",
    "\n",
    "# 2.创建csv文件\n",
    "data_file = os.path.join('..', 'data', 'house_tiny.csv')\n",
    "\n",
    "with open(data_file, 'w') as f:\n",
    "    f.write('NumRooms,Alley,Price\\n') # 列名\n",
    "    f.write('NA,Pave,127500\\n') # 每行表示一个数据样本\n",
    "    f.write('2,NA,106000\\n')\n",
    "    f.write('4,NA,178100\\n')\n",
    "    f.write('NA,NA,140000\\n')"
   ],
   "outputs": [],
   "execution_count": 24
  },
  {
   "cell_type": "markdown",
   "id": "94275987-866d-4cf9-8fd7-ad632955c28b",
   "metadata": {},
   "source": [
    "## 2.读取csv数据集"
   ]
  },
  {
   "cell_type": "code",
   "id": "8efad0c6-517d-421a-9b43-b73a596d398b",
   "metadata": {
    "ExecuteTime": {
     "end_time": "2024-07-21T06:55:44.189252Z",
     "start_time": "2024-07-21T06:55:44.181253Z"
    }
   },
   "source": [
    "import pandas as pd\n",
    "# 根据文件读取数据\n",
    "data = pd.read_csv(data_file) \n",
    "\n",
    "#数据展示\n",
    "# print(data)\n",
    "data"
   ],
   "outputs": [
    {
     "data": {
      "text/plain": [
       "   NumRooms Alley   Price\n",
       "0       NaN  Pave  127500\n",
       "1       2.0   NaN  106000\n",
       "2       4.0   NaN  178100\n",
       "3       NaN   NaN  140000"
      ],
      "text/html": [
       "<div>\n",
       "<style scoped>\n",
       "    .dataframe tbody tr th:only-of-type {\n",
       "        vertical-align: middle;\n",
       "    }\n",
       "\n",
       "    .dataframe tbody tr th {\n",
       "        vertical-align: top;\n",
       "    }\n",
       "\n",
       "    .dataframe thead th {\n",
       "        text-align: right;\n",
       "    }\n",
       "</style>\n",
       "<table border=\"1\" class=\"dataframe\">\n",
       "  <thead>\n",
       "    <tr style=\"text-align: right;\">\n",
       "      <th></th>\n",
       "      <th>NumRooms</th>\n",
       "      <th>Alley</th>\n",
       "      <th>Price</th>\n",
       "    </tr>\n",
       "  </thead>\n",
       "  <tbody>\n",
       "    <tr>\n",
       "      <th>0</th>\n",
       "      <td>NaN</td>\n",
       "      <td>Pave</td>\n",
       "      <td>127500</td>\n",
       "    </tr>\n",
       "    <tr>\n",
       "      <th>1</th>\n",
       "      <td>2.0</td>\n",
       "      <td>NaN</td>\n",
       "      <td>106000</td>\n",
       "    </tr>\n",
       "    <tr>\n",
       "      <th>2</th>\n",
       "      <td>4.0</td>\n",
       "      <td>NaN</td>\n",
       "      <td>178100</td>\n",
       "    </tr>\n",
       "    <tr>\n",
       "      <th>3</th>\n",
       "      <td>NaN</td>\n",
       "      <td>NaN</td>\n",
       "      <td>140000</td>\n",
       "    </tr>\n",
       "  </tbody>\n",
       "</table>\n",
       "</div>"
      ]
     },
     "execution_count": 25,
     "metadata": {},
     "output_type": "execute_result"
    }
   ],
   "execution_count": 25
  },
  {
   "cell_type": "markdown",
   "id": "1bead813-fe08-4845-91eb-722bb9e4c426",
   "metadata": {},
   "source": [
    "## 3.数据缺失的处理，典型的方法包括插值和删除，这里采用插值"
   ]
  },
  {
   "cell_type": "code",
   "id": "ec6f7f98-a2a7-4418-aef8-9e12729225e9",
   "metadata": {
    "ExecuteTime": {
     "end_time": "2024-07-21T06:55:48.066273Z",
     "start_time": "2024-07-21T06:55:48.059080Z"
    }
   },
   "source": [
    "# inputs:data里所有行的0-1列\n",
    "# outputs:data里所有行的2列\n",
    "inputs,outputs = data.iloc[:,0:2],data.iloc[:,2]\n",
    "\n",
    "# 填充inputs中的残缺值成均值\n",
    "inputs = inputs.fillna(inputs.mean(numeric_only=True))\n",
    "\n",
    "print(inputs)"
   ],
   "outputs": [
    {
     "name": "stdout",
     "output_type": "stream",
     "text": [
      "   NumRooms Alley\n",
      "0       3.0  Pave\n",
      "1       2.0   NaN\n",
      "2       4.0   NaN\n",
      "3       3.0   NaN\n"
     ]
    }
   ],
   "execution_count": 26
  },
  {
   "metadata": {},
   "cell_type": "markdown",
   "source": "## 4.对于inputs中的类别值或者离散值，我们可以将NaN视为一个类别",
   "id": "111e5fee448f88d5"
  },
  {
   "metadata": {
    "ExecuteTime": {
     "end_time": "2024-07-21T06:55:56.649629Z",
     "start_time": "2024-07-21T06:55:56.641124Z"
    }
   },
   "cell_type": "code",
   "source": [
    "# \n",
    "inputs = pd.get_dummies(inputs,dummy_na=True)*1\n",
    "print(inputs)"
   ],
   "id": "be45635e4cd01cb",
   "outputs": [
    {
     "name": "stdout",
     "output_type": "stream",
     "text": [
      "   NumRooms  Alley_Pave  Alley_nan\n",
      "0       3.0           1          0\n",
      "1       2.0           0          1\n",
      "2       4.0           0          1\n",
      "3       3.0           0          1\n"
     ]
    }
   ],
   "execution_count": 28
  },
  {
   "metadata": {},
   "cell_type": "markdown",
   "source": "## 5.现在inputs和outputs中所有条目都是数值类型，都可以转为张量格式",
   "id": "a1fd4a7fbee20c5c"
  },
  {
   "metadata": {
    "ExecuteTime": {
     "end_time": "2024-07-21T06:56:00.346793Z",
     "start_time": "2024-07-21T06:56:00.320712Z"
    }
   },
   "cell_type": "code",
   "source": [
    "import torch\n",
    "\n",
    "x,y = torch.tensor(inputs.values),torch.tensor(outputs.values)\n",
    "\n",
    "x,y"
   ],
   "id": "b3b5f44ea1b27117",
   "outputs": [
    {
     "data": {
      "text/plain": [
       "(tensor([[3., 1., 0.],\n",
       "         [2., 0., 1.],\n",
       "         [4., 0., 1.],\n",
       "         [3., 0., 1.]], dtype=torch.float64),\n",
       " tensor([127500, 106000, 178100, 140000]))"
      ]
     },
     "execution_count": 29,
     "metadata": {},
     "output_type": "execute_result"
    }
   ],
   "execution_count": 29
  },
  {
   "metadata": {},
   "cell_type": "markdown",
   "source": "## 6.转换为Numpy张量",
   "id": "26554891d5793a92"
  },
  {
   "metadata": {
    "ExecuteTime": {
     "end_time": "2024-07-21T06:59:34.343948Z",
     "start_time": "2024-07-21T06:59:34.325554Z"
    }
   },
   "cell_type": "code",
   "source": [
    "A = x.numpy()\n",
    "B = torch.tensor(A)\n",
    "type(A),type(B)"
   ],
   "id": "6a661fe62973057c",
   "outputs": [
    {
     "data": {
      "text/plain": [
       "(numpy.ndarray, torch.Tensor)"
      ]
     },
     "execution_count": 31,
     "metadata": {},
     "output_type": "execute_result"
    }
   ],
   "execution_count": 31
  },
  {
   "metadata": {},
   "cell_type": "markdown",
   "source": "## 7.大小为1的张量转换为python标量",
   "id": "4a28ef94f285d05b"
  },
  {
   "metadata": {
    "ExecuteTime": {
     "end_time": "2024-07-21T07:00:57.454618Z",
     "start_time": "2024-07-21T07:00:57.425763Z"
    }
   },
   "cell_type": "code",
   "source": [
    "a = torch.tensor([3.5])\n",
    "a,a.item(),float(a),int(a)"
   ],
   "id": "4d8b91b17d0cca74",
   "outputs": [
    {
     "data": {
      "text/plain": [
       "(tensor([3.5000]), 3.5, 3.5, 3)"
      ]
     },
     "execution_count": 32,
     "metadata": {},
     "output_type": "execute_result"
    }
   ],
   "execution_count": 32
  }
 ],
 "metadata": {
  "kernelspec": {
   "display_name": "DL",
   "language": "python",
   "name": "dl"
  },
  "language_info": {
   "codemirror_mode": {
    "name": "ipython",
    "version": 3
   },
   "file_extension": ".py",
   "mimetype": "text/x-python",
   "name": "python",
   "nbconvert_exporter": "python",
   "pygments_lexer": "ipython3",
   "version": "3.9.19"
  }
 },
 "nbformat": 4,
 "nbformat_minor": 5
}
