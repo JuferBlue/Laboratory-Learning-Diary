{
 "cells": [
  {
   "metadata": {},
   "cell_type": "markdown",
   "source": "## 1.计算设备",
   "id": "e00ffb1b83170db2"
  },
  {
   "metadata": {
    "ExecuteTime": {
     "end_time": "2024-07-22T09:03:26.501271Z",
     "start_time": "2024-07-22T09:03:26.498157Z"
    }
   },
   "cell_type": "code",
   "source": [
    "import torch\n",
    "from torch import nn\n",
    "torch.device('cpu')\n",
    "# torch.cuda.device('cuda')"
   ],
   "id": "9655099f294e967c",
   "outputs": [
    {
     "data": {
      "text/plain": [
       "device(type='cpu')"
      ]
     },
     "execution_count": 6,
     "metadata": {},
     "output_type": "execute_result"
    }
   ],
   "execution_count": 6
  },
  {
   "metadata": {},
   "cell_type": "markdown",
   "source": "## 2.查询可用GPU的数量",
   "id": "c29f062fd328628c"
  },
  {
   "metadata": {
    "ExecuteTime": {
     "end_time": "2024-07-22T09:04:21.409965Z",
     "start_time": "2024-07-22T09:04:21.406643Z"
    }
   },
   "cell_type": "code",
   "source": "torch.cuda.device_count()",
   "id": "cacd93cef0907e25",
   "outputs": [
    {
     "data": {
      "text/plain": [
       "1"
      ]
     },
     "execution_count": 7,
     "metadata": {},
     "output_type": "execute_result"
    }
   ],
   "execution_count": 7
  },
  {
   "metadata": {},
   "cell_type": "markdown",
   "source": "## 3.查询张量所在的设备",
   "id": "38e7d44313ce66d6"
  },
  {
   "metadata": {},
   "cell_type": "code",
   "outputs": [],
   "execution_count": null,
   "source": "x = ",
   "id": "f86f90fc508e1d51"
  }
 ],
 "metadata": {
  "kernelspec": {
   "display_name": "Python 3",
   "language": "python",
   "name": "python3"
  },
  "language_info": {
   "codemirror_mode": {
    "name": "ipython",
    "version": 2
   },
   "file_extension": ".py",
   "mimetype": "text/x-python",
   "name": "python",
   "nbconvert_exporter": "python",
   "pygments_lexer": "ipython2",
   "version": "2.7.6"
  }
 },
 "nbformat": 4,
 "nbformat_minor": 5
}
